{
 "cells": [
  {
   "cell_type": "markdown",
   "metadata": {
    "colab_type": "text",
    "id": "view-in-github"
   },
   "source": [
    "<a href=\"https://colab.research.google.com/github/ed-science/br-python-challenges/blob/master/Desafio_05.ipynb\" target=\"_parent\"><img src=\"https://colab.research.google.com/assets/colab-badge.svg\" alt=\"Open In Colab\"/></a>"
   ]
  },
  {
   "cell_type": "markdown",
   "metadata": {
    "id": "gQbaWOWcW1g_"
   },
   "source": [
    "# Desafio 5\n",
    "Você trabalha em uma loja de sapatos e deve contatar uma lista de clientes dada pela seguinte lista de números de telefones:"
   ]
  },
  {
   "cell_type": "code",
   "execution_count": 2,
   "metadata": {
    "ExecuteTime": {
     "end_time": "2021-02-14T13:09:09.633397Z",
     "start_time": "2021-02-14T13:09:09.613412Z"
    },
    "id": "T68FjcUmWear"
   },
   "outputs": [],
   "source": [
    "numeros_telefone = [\n",
    "'(765) 368-1506',\n",
    "'(285) 608-2448',\n",
    "'(255) 826-9050',\n",
    "'(554) 994-1517',\n",
    "'(285) 608-2448',\n",
    "'(596) 336-5508',\n",
    "'(511) 821-7870',\n",
    "'(410) 665-4447',\n",
    "'(821) 642-8987',\n",
    "'(285) 608-2448',\n",
    "'(311) 799-3883',\n",
    "'(935) 875-2054',\n",
    "'(464) 788-2397',\n",
    "'(765) 368-1506',\n",
    "'(650) 684-1437',\n",
    "'(812) 816-0881',\n",
    "'(285) 608-2448',\n",
    "'(885) 407-1719',\n",
    "'(943) 769-1061',\n",
    "'(596) 336-5508',\n",
    "'(765) 368-1506',\n",
    "'(255) 826-9050',\n",
    "'(255) 828-9050',\n",
    "'(255) 822-8990'\n",
    "]"
   ]
  },
  {
   "cell_type": "markdown",
   "metadata": {
    "id": "ryYrStScXgZ3"
   },
   "source": [
    "No entanto, alguns destes números estão duplicados. Você seria capaz de remover estes duplicados para evitar que clientes sejam contatado mais de uma vez?"
   ]
  },
  {
   "cell_type": "code",
   "execution_count": 3,
   "metadata": {
    "ExecuteTime": {
     "end_time": "2021-02-14T13:09:11.958518Z",
     "start_time": "2021-02-14T13:09:11.949538Z"
    },
    "id": "F8n1sN-4XrW3",
    "outputId": "e1c7078b-53e2-4471-99a1-13b73b1dfa3d"
   },
   "outputs": [
    {
     "data": {
      "text/plain": [
       "['(464) 788-2397',\n",
       " '(935) 875-2054',\n",
       " '(885) 407-1719',\n",
       " '(255) 826-9050',\n",
       " '(765) 368-1506',\n",
       " '(554) 994-1517',\n",
       " '(596) 336-5508',\n",
       " '(410) 665-4447',\n",
       " '(511) 821-7870',\n",
       " '(285) 608-2448',\n",
       " '(650) 684-1437',\n",
       " '(943) 769-1061',\n",
       " '(821) 642-8987',\n",
       " '(812) 816-0881',\n",
       " '(311) 799-3883']"
      ]
     },
     "execution_count": 3,
     "metadata": {},
     "output_type": "execute_result"
    }
   ],
   "source": [
    "list(set(numeros_telefone)) # conferido 2"
   ]
  },
  {
   "cell_type": "code",
   "execution_count": null,
   "metadata": {
    "id": "ay2TFXRIkNQr"
   },
   "outputs": [],
   "source": []
  }
 ],
 "metadata": {
  "colab": {
   "include_colab_link": true,
   "name": "Desafio 5.ipynb",
   "provenance": []
  },
  "kernelspec": {
   "display_name": "Python 3",
   "language": "python",
   "name": "python3"
  },
  "language_info": {
   "codemirror_mode": {
    "name": "ipython",
    "version": 3
   },
   "file_extension": ".py",
   "mimetype": "text/x-python",
   "name": "python",
   "nbconvert_exporter": "python",
   "pygments_lexer": "ipython3",
   "version": "3.8.5"
  },
  "latex_envs": {
   "LaTeX_envs_menu_present": true,
   "autoclose": false,
   "autocomplete": true,
   "bibliofile": "biblio.bib",
   "cite_by": "apalike",
   "current_citInitial": 1,
   "eqLabelWithNumbers": true,
   "eqNumInitial": 1,
   "hotkeys": {
    "equation": "Ctrl-E",
    "itemize": "Ctrl-I"
   },
   "labels_anchors": false,
   "latex_user_defs": false,
   "report_style_numbering": false,
   "user_envs_cfg": false
  },
  "varInspector": {
   "cols": {
    "lenName": 16,
    "lenType": 16,
    "lenVar": 40
   },
   "kernels_config": {
    "python": {
     "delete_cmd_postfix": "",
     "delete_cmd_prefix": "del ",
     "library": "var_list.py",
     "varRefreshCmd": "print(var_dic_list())"
    },
    "r": {
     "delete_cmd_postfix": ") ",
     "delete_cmd_prefix": "rm(",
     "library": "var_list.r",
     "varRefreshCmd": "cat(var_dic_list()) "
    }
   },
   "types_to_exclude": [
    "module",
    "function",
    "builtin_function_or_method",
    "instance",
    "_Feature"
   ],
   "window_display": false
  }
 },
 "nbformat": 4,
 "nbformat_minor": 1
}
